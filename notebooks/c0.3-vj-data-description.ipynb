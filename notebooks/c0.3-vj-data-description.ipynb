{
 "cells": [
  {
   "attachments": {},
   "cell_type": "markdown",
   "metadata": {},
   "source": []
  },
  {
   "attachments": {},
   "cell_type": "markdown",
   "metadata": {},
   "source": [
    "## 0.0 IMPORTS"
   ]
  },
  {
   "cell_type": "code",
   "execution_count": 1,
   "metadata": {},
   "outputs": [],
   "source": [
    "import pandas as pd\n",
    "import numpy as np\n",
    "import seaborn as sns\n",
    "import matplotlib.pyplot as plt\n",
    "import plotly.express as px\n",
    "from scipy.stats import kurtosis, skew, norm\n",
    "import math\n",
    "import statistics\n",
    "from scipy.stats import chi2\n",
    "\n",
    "pd.set_option('float_format', '{:.3f}'.format)"
   ]
  },
  {
   "attachments": {},
   "cell_type": "markdown",
   "metadata": {},
   "source": [
    "## 0.1 - HELPER FUNCTION (FUNÇÕES AUXILIARES)"
   ]
  },
  {
   "cell_type": "code",
   "execution_count": 2,
   "metadata": {},
   "outputs": [],
   "source": [
    "def show_descriptive_statistical(df):\n",
    "    # Central Tendency - mean, median\n",
    "    ct1 = pd.DataFrame(df.apply(np.mean)).T\n",
    "    ct2 = pd.DataFrame(df.apply(np.median)).T\n",
    "\n",
    "    # Dispersion - std, min, max, range, skew, kurtosis\n",
    "    d1 = pd.DataFrame(df.apply(np.std)).T\n",
    "    d2 = pd.DataFrame(df.apply(min)).T\n",
    "    d3 = pd.DataFrame(df.apply(max)).T\n",
    "    d4 = pd.DataFrame(df.apply(lambda x: x.max() - x.min())).T\n",
    "    d5 = pd.DataFrame(df.apply(lambda x: x.skew())).T\n",
    "    d6 = pd.DataFrame(df.apply(lambda x: x.kurtosis())).T\n",
    "\n",
    "    m = pd.concat([d2, d3, d4, ct1, ct2, d1, d5, d6]).T.reset_index()\n",
    "    m.columns = ['attributes', 'min', 'max', 'range', 'mean', 'median', 'std', 'skew', 'kurtosis']\n",
    "    return m"
   ]
  },
  {
   "attachments": {},
   "cell_type": "markdown",
   "metadata": {},
   "source": [
    "## 0.2 - PATH DEFINITION"
   ]
  },
  {
   "cell_type": "code",
   "execution_count": 3,
   "metadata": {},
   "outputs": [],
   "source": [
    "HOME_PATH = '/home/valmir/Documentos/deteccao_fraude/'\n",
    "RAW_DATA_PATH = 'data/raw/'\n",
    "INTERIM_DATA_PATH = 'data/intermediario/'\n",
    "FIGURE_PATH = 'reports/figures/'"
   ]
  },
  {
   "attachments": {},
   "cell_type": "markdown",
   "metadata": {},
   "source": [
    "## 0.3 - LOAD DATA"
   ]
  },
  {
   "cell_type": "code",
   "execution_count": 4,
   "metadata": {},
   "outputs": [
    {
     "data": {
      "text/html": [
       "<div>\n",
       "<style scoped>\n",
       "    .dataframe tbody tr th:only-of-type {\n",
       "        vertical-align: middle;\n",
       "    }\n",
       "\n",
       "    .dataframe tbody tr th {\n",
       "        vertical-align: top;\n",
       "    }\n",
       "\n",
       "    .dataframe thead th {\n",
       "        text-align: right;\n",
       "    }\n",
       "</style>\n",
       "<table border=\"1\" class=\"dataframe\">\n",
       "  <thead>\n",
       "    <tr style=\"text-align: right;\">\n",
       "      <th></th>\n",
       "      <th>step</th>\n",
       "      <th>type</th>\n",
       "      <th>amount</th>\n",
       "      <th>nameOrig</th>\n",
       "      <th>oldbalanceOrg</th>\n",
       "      <th>newbalanceOrig</th>\n",
       "      <th>nameDest</th>\n",
       "      <th>oldbalanceDest</th>\n",
       "      <th>newbalanceDest</th>\n",
       "      <th>isFraud</th>\n",
       "      <th>isFlaggedFraud</th>\n",
       "    </tr>\n",
       "  </thead>\n",
       "  <tbody>\n",
       "    <tr>\n",
       "      <th>6362615</th>\n",
       "      <td>743</td>\n",
       "      <td>CASH_OUT</td>\n",
       "      <td>339682.130</td>\n",
       "      <td>C786484425</td>\n",
       "      <td>339682.130</td>\n",
       "      <td>0.000</td>\n",
       "      <td>C776919290</td>\n",
       "      <td>0.000</td>\n",
       "      <td>339682.130</td>\n",
       "      <td>1</td>\n",
       "      <td>0</td>\n",
       "    </tr>\n",
       "    <tr>\n",
       "      <th>6362616</th>\n",
       "      <td>743</td>\n",
       "      <td>TRANSFER</td>\n",
       "      <td>6311409.280</td>\n",
       "      <td>C1529008245</td>\n",
       "      <td>6311409.280</td>\n",
       "      <td>0.000</td>\n",
       "      <td>C1881841831</td>\n",
       "      <td>0.000</td>\n",
       "      <td>0.000</td>\n",
       "      <td>1</td>\n",
       "      <td>0</td>\n",
       "    </tr>\n",
       "    <tr>\n",
       "      <th>6362617</th>\n",
       "      <td>743</td>\n",
       "      <td>CASH_OUT</td>\n",
       "      <td>6311409.280</td>\n",
       "      <td>C1162922333</td>\n",
       "      <td>6311409.280</td>\n",
       "      <td>0.000</td>\n",
       "      <td>C1365125890</td>\n",
       "      <td>68488.840</td>\n",
       "      <td>6379898.110</td>\n",
       "      <td>1</td>\n",
       "      <td>0</td>\n",
       "    </tr>\n",
       "    <tr>\n",
       "      <th>6362618</th>\n",
       "      <td>743</td>\n",
       "      <td>TRANSFER</td>\n",
       "      <td>850002.520</td>\n",
       "      <td>C1685995037</td>\n",
       "      <td>850002.520</td>\n",
       "      <td>0.000</td>\n",
       "      <td>C2080388513</td>\n",
       "      <td>0.000</td>\n",
       "      <td>0.000</td>\n",
       "      <td>1</td>\n",
       "      <td>0</td>\n",
       "    </tr>\n",
       "    <tr>\n",
       "      <th>6362619</th>\n",
       "      <td>743</td>\n",
       "      <td>CASH_OUT</td>\n",
       "      <td>850002.520</td>\n",
       "      <td>C1280323807</td>\n",
       "      <td>850002.520</td>\n",
       "      <td>0.000</td>\n",
       "      <td>C873221189</td>\n",
       "      <td>6510099.110</td>\n",
       "      <td>7360101.630</td>\n",
       "      <td>1</td>\n",
       "      <td>0</td>\n",
       "    </tr>\n",
       "  </tbody>\n",
       "</table>\n",
       "</div>"
      ],
      "text/plain": [
       "         step      type      amount     nameOrig  oldbalanceOrg  \\\n",
       "6362615   743  CASH_OUT  339682.130   C786484425     339682.130   \n",
       "6362616   743  TRANSFER 6311409.280  C1529008245    6311409.280   \n",
       "6362617   743  CASH_OUT 6311409.280  C1162922333    6311409.280   \n",
       "6362618   743  TRANSFER  850002.520  C1685995037     850002.520   \n",
       "6362619   743  CASH_OUT  850002.520  C1280323807     850002.520   \n",
       "\n",
       "         newbalanceOrig     nameDest  oldbalanceDest  newbalanceDest  isFraud  \\\n",
       "6362615           0.000   C776919290           0.000      339682.130        1   \n",
       "6362616           0.000  C1881841831           0.000           0.000        1   \n",
       "6362617           0.000  C1365125890       68488.840     6379898.110        1   \n",
       "6362618           0.000  C2080388513           0.000           0.000        1   \n",
       "6362619           0.000   C873221189     6510099.110     7360101.630        1   \n",
       "\n",
       "         isFlaggedFraud  \n",
       "6362615               0  \n",
       "6362616               0  \n",
       "6362617               0  \n",
       "6362618               0  \n",
       "6362619               0  "
      ]
     },
     "execution_count": 4,
     "metadata": {},
     "output_type": "execute_result"
    }
   ],
   "source": [
    "base_fraude_raw = pd.read_csv(HOME_PATH+RAW_DATA_PATH+'fraud_detection_dataset.csv')\n",
    "base_fraude_raw.tail()\n"
   ]
  },
  {
   "attachments": {},
   "cell_type": "markdown",
   "metadata": {},
   "source": [
    "## 1.0 - DATA DESCRIPITION"
   ]
  },
  {
   "cell_type": "code",
   "execution_count": 5,
   "metadata": {},
   "outputs": [],
   "source": [
    "#base_fraude_raw1 = base_fraude_raw.copy()\n",
    "#base_fraude_raw1.to_csv(HOME_PATH+INTERIM_DATA_PATH+'base_fraude_raw1.csv')\n",
    "base_fraude_raw1 = pd.read_csv(HOME_PATH+INTERIM_DATA_PATH+'base_fraude_raw1.csv')\n"
   ]
  },
  {
   "attachments": {},
   "cell_type": "markdown",
   "metadata": {},
   "source": [
    "## 1.1 - DATA FIELD'S"
   ]
  },
  {
   "attachments": {},
   "cell_type": "markdown",
   "metadata": {},
   "source": [
    "Os dados contidos nesta base de dados são simulados e compreendem 30 dias. Estas transações podem ser de diferentes tipo e foram executadas via mobile devices. As features contidas nesta base de dados são:\n",
    "\n",
    " * `step` - Passo: representa o total de horas transcorrido desde o início da simulação. Esta feature vai variar entre 1 e 95(4 dias);\n",
    "\n",
    " * `type`: Tipo: tipo de transação(depósito, saque, débito, pagamento e transferencia);\n",
    "\n",
    " * `amount`: Quantia: total que foi transacionado;\n",
    "\n",
    " * `nameOring`: ClienteOrigem: cliente que iniciou atransação;\n",
    "\n",
    " * `oldbalanceOrg`: SaldoInicialOrigem: saldo da conta de origem antes da transação;\n",
    "\n",
    " * `newbalanceOrig`: SaldoFinalOrigem: saldo da conta de origem depois da transação;\n",
    "\n",
    " * `nameDest`: ClienteDestino: cliente de destino da transação;\n",
    "\n",
    " * `oldbalandeDestino`: SaldoInicialDestino: saldo da conta destino antes da transação;\n",
    "\n",
    " * _`newbalanceDest`_: SaldoFinalDestino: saldo da conta destino depois da transação;\n",
    "\n",
    " * `isFraud`: Fraude: flag que define se a transação é fraudolenta ou não. Nesta simulação de fraude é a assumir se 'a conta do usuario foi   esvaziada e transferindo o dinherio para outra conta e depois sacado\n",
    " \n",
    " * `IssFlaggedFraud`: SinalizadaFraude: automaticamente categorizada como fraude pelo banco por fraude por tentar trasnferir mais de 200 mil em uma única conta\n"
   ]
  },
  {
   "attachments": {},
   "cell_type": "markdown",
   "metadata": {},
   "source": [
    "## 1.2 - RENAME COLUMNS"
   ]
  },
  {
   "cell_type": "code",
   "execution_count": 6,
   "metadata": {},
   "outputs": [],
   "source": [
    "base_fraude_raw1.rename(columns={'step':'Passos', 'type':'Tipo', 'amount': 'Quantia',\n",
    "                                'nameOrig':'ClienteOrigem', 'oldbalanceOrg': 'SaldoInicalOrig',\n",
    "                                'newbalanceOrig':'SaldoFinalOrig', 'nameDest':'ClienteDest',\n",
    "                                'oldbalanceDest':'SaldoInicialDest', 'newbalanceDest':'SaldoFinalDest',\n",
    "                                'isFraud':'Fraude', 'isFlaggedFraud':'SinalizadaFraude'}, inplace=True)\n"
   ]
  },
  {
   "attachments": {},
   "cell_type": "markdown",
   "metadata": {},
   "source": [
    "## 1.3 - DATA DIMENSIONS"
   ]
  },
  {
   "cell_type": "code",
   "execution_count": 7,
   "metadata": {},
   "outputs": [
    {
     "name": "stdout",
     "output_type": "stream",
     "text": [
      "Numero de linhas 6362620\n",
      "Numero de colunas 12\n"
     ]
    }
   ],
   "source": [
    "num_linhas, num_colunas = base_fraude_raw1.shape\n",
    "\n",
    "print('Numero de linhas', num_linhas)\n",
    "print('Numero de colunas', num_colunas)"
   ]
  },
  {
   "attachments": {},
   "cell_type": "markdown",
   "metadata": {},
   "source": [
    "## 1.4 - DATA TYPES"
   ]
  },
  {
   "cell_type": "code",
   "execution_count": 8,
   "metadata": {},
   "outputs": [
    {
     "data": {
      "text/plain": [
       "Unnamed: 0            int64\n",
       "Passos                int64\n",
       "Tipo                 object\n",
       "Quantia             float64\n",
       "ClienteOrigem        object\n",
       "SaldoInicalOrig     float64\n",
       "SaldoFinalOrig      float64\n",
       "ClienteDest          object\n",
       "SaldoInicialDest    float64\n",
       "SaldoFinalDest      float64\n",
       "Fraude                int64\n",
       "SinalizadaFraude      int64\n",
       "dtype: object"
      ]
     },
     "execution_count": 8,
     "metadata": {},
     "output_type": "execute_result"
    }
   ],
   "source": [
    "#base_fraude_categoria = base_fraude_raw1[['Tipo','ClienteDest', 'ClienteOrigem']].astype('category')\n",
    "base_fraude_raw1.dtypes"
   ]
  },
  {
   "attachments": {},
   "cell_type": "markdown",
   "metadata": {},
   "source": [
    "## 1.5 CHANGE TYPE"
   ]
  },
  {
   "attachments": {},
   "cell_type": "markdown",
   "metadata": {},
   "source": [
    "#### Não houve nenhuma mudança nos tipos de variaveis nessa etapa, pois todas as features se encontravam com seus tipos bem definidos"
   ]
  },
  {
   "attachments": {},
   "cell_type": "markdown",
   "metadata": {},
   "source": [
    "## 1.6 - CHECK N.A."
   ]
  },
  {
   "attachments": {},
   "cell_type": "markdown",
   "metadata": {},
   "source": [
    "### Não foi encontrado nenhum valor nulo nesse Dataset"
   ]
  },
  {
   "cell_type": "code",
   "execution_count": 9,
   "metadata": {},
   "outputs": [
    {
     "data": {
      "text/plain": [
       "Unnamed: 0          0\n",
       "Passos              0\n",
       "Tipo                0\n",
       "Quantia             0\n",
       "ClienteOrigem       0\n",
       "SaldoInicalOrig     0\n",
       "SaldoFinalOrig      0\n",
       "ClienteDest         0\n",
       "SaldoInicialDest    0\n",
       "SaldoFinalDest      0\n",
       "Fraude              0\n",
       "SinalizadaFraude    0\n",
       "dtype: int64"
      ]
     },
     "execution_count": 9,
     "metadata": {},
     "output_type": "execute_result"
    }
   ],
   "source": [
    "base_fraude_raw1.isnull().sum()"
   ]
  },
  {
   "cell_type": "code",
   "execution_count": 10,
   "metadata": {},
   "outputs": [
    {
     "name": "stdout",
     "output_type": "stream",
     "text": [
      "<class 'pandas.core.frame.DataFrame'>\n",
      "RangeIndex: 6362620 entries, 0 to 6362619\n",
      "Data columns (total 12 columns):\n",
      " #   Column            Dtype  \n",
      "---  ------            -----  \n",
      " 0   Unnamed: 0        int64  \n",
      " 1   Passos            int64  \n",
      " 2   Tipo              object \n",
      " 3   Quantia           float64\n",
      " 4   ClienteOrigem     object \n",
      " 5   SaldoInicalOrig   float64\n",
      " 6   SaldoFinalOrig    float64\n",
      " 7   ClienteDest       object \n",
      " 8   SaldoInicialDest  float64\n",
      " 9   SaldoFinalDest    float64\n",
      " 10  Fraude            int64  \n",
      " 11  SinalizadaFraude  int64  \n",
      "dtypes: float64(5), int64(4), object(3)\n",
      "memory usage: 582.5+ MB\n"
     ]
    }
   ],
   "source": [
    "base_fraude_raw1.info()"
   ]
  },
  {
   "attachments": {},
   "cell_type": "markdown",
   "metadata": {},
   "source": [
    "## 1.7 - FILL OUT N.A."
   ]
  },
  {
   "attachments": {},
   "cell_type": "markdown",
   "metadata": {},
   "source": [
    "### Não havendo nenhum valor faltante nesse Dataset, não foi nescessario nenhum metodo de preenchimento ou exclusão dos mesmos"
   ]
  },
  {
   "attachments": {},
   "cell_type": "markdown",
   "metadata": {},
   "source": []
  },
  {
   "attachments": {},
   "cell_type": "markdown",
   "metadata": {},
   "source": [
    "## 1.8 DISCRIPTIVE STATISTICAL"
   ]
  },
  {
   "cell_type": "code",
   "execution_count": 11,
   "metadata": {},
   "outputs": [],
   "source": [
    "num_attributes = base_fraude_raw1.select_dtypes(include=['int64', 'float64'])\n",
    "cat_attributes = base_fraude_raw1.select_dtypes(exclude=['int64', 'float64', 'datetime64[ns]'])\n",
    "\n"
   ]
  },
  {
   "attachments": {},
   "cell_type": "markdown",
   "metadata": {},
   "source": [
    "Medidas de tendencia central - \n",
    " - Media\n",
    " - Mediana\n",
    " \n",
    "\n",
    "Medidas de Dispersão\n",
    "\n",
    "- Skewness\n",
    "- Kurtosis\n",
    "- Desvio Padrão\n",
    "- Range (alcance)\n",
    "- Min\n",
    "- Max"
   ]
  },
  {
   "attachments": {},
   "cell_type": "markdown",
   "metadata": {},
   "source": [
    "### 1.8.1 - NUMERIC ESTATISTIC"
   ]
  },
  {
   "cell_type": "code",
   "execution_count": 12,
   "metadata": {},
   "outputs": [
    {
     "data": {
      "text/html": [
       "<div>\n",
       "<style scoped>\n",
       "    .dataframe tbody tr th:only-of-type {\n",
       "        vertical-align: middle;\n",
       "    }\n",
       "\n",
       "    .dataframe tbody tr th {\n",
       "        vertical-align: top;\n",
       "    }\n",
       "\n",
       "    .dataframe thead th {\n",
       "        text-align: right;\n",
       "    }\n",
       "</style>\n",
       "<table border=\"1\" class=\"dataframe\">\n",
       "  <thead>\n",
       "    <tr style=\"text-align: right;\">\n",
       "      <th></th>\n",
       "      <th>attributes</th>\n",
       "      <th>min</th>\n",
       "      <th>max</th>\n",
       "      <th>range</th>\n",
       "      <th>mean</th>\n",
       "      <th>median</th>\n",
       "      <th>std</th>\n",
       "      <th>skew</th>\n",
       "      <th>kurtosis</th>\n",
       "    </tr>\n",
       "  </thead>\n",
       "  <tbody>\n",
       "    <tr>\n",
       "      <th>0</th>\n",
       "      <td>Unnamed: 0</td>\n",
       "      <td>0.000</td>\n",
       "      <td>6362619.000</td>\n",
       "      <td>6362619.000</td>\n",
       "      <td>3181309.500</td>\n",
       "      <td>3181309.500</td>\n",
       "      <td>1836730.185</td>\n",
       "      <td>0.000</td>\n",
       "      <td>-1.200</td>\n",
       "    </tr>\n",
       "    <tr>\n",
       "      <th>1</th>\n",
       "      <td>Passos</td>\n",
       "      <td>1.000</td>\n",
       "      <td>743.000</td>\n",
       "      <td>742.000</td>\n",
       "      <td>243.397</td>\n",
       "      <td>239.000</td>\n",
       "      <td>142.332</td>\n",
       "      <td>0.375</td>\n",
       "      <td>0.329</td>\n",
       "    </tr>\n",
       "    <tr>\n",
       "      <th>2</th>\n",
       "      <td>Quantia</td>\n",
       "      <td>0.000</td>\n",
       "      <td>92445516.640</td>\n",
       "      <td>92445516.640</td>\n",
       "      <td>179861.904</td>\n",
       "      <td>74871.940</td>\n",
       "      <td>603858.184</td>\n",
       "      <td>30.994</td>\n",
       "      <td>1797.957</td>\n",
       "    </tr>\n",
       "    <tr>\n",
       "      <th>3</th>\n",
       "      <td>SaldoInicalOrig</td>\n",
       "      <td>0.000</td>\n",
       "      <td>59585040.370</td>\n",
       "      <td>59585040.370</td>\n",
       "      <td>833883.104</td>\n",
       "      <td>14208.000</td>\n",
       "      <td>2888242.446</td>\n",
       "      <td>5.249</td>\n",
       "      <td>32.965</td>\n",
       "    </tr>\n",
       "    <tr>\n",
       "      <th>4</th>\n",
       "      <td>SaldoFinalOrig</td>\n",
       "      <td>0.000</td>\n",
       "      <td>49585040.370</td>\n",
       "      <td>49585040.370</td>\n",
       "      <td>855113.669</td>\n",
       "      <td>0.000</td>\n",
       "      <td>2924048.273</td>\n",
       "      <td>5.177</td>\n",
       "      <td>32.067</td>\n",
       "    </tr>\n",
       "    <tr>\n",
       "      <th>5</th>\n",
       "      <td>SaldoInicialDest</td>\n",
       "      <td>0.000</td>\n",
       "      <td>356015889.350</td>\n",
       "      <td>356015889.350</td>\n",
       "      <td>1100701.667</td>\n",
       "      <td>132705.665</td>\n",
       "      <td>3399179.846</td>\n",
       "      <td>19.922</td>\n",
       "      <td>948.674</td>\n",
       "    </tr>\n",
       "    <tr>\n",
       "      <th>6</th>\n",
       "      <td>SaldoFinalDest</td>\n",
       "      <td>0.000</td>\n",
       "      <td>356179278.920</td>\n",
       "      <td>356179278.920</td>\n",
       "      <td>1224996.398</td>\n",
       "      <td>214661.440</td>\n",
       "      <td>3674128.653</td>\n",
       "      <td>19.352</td>\n",
       "      <td>862.157</td>\n",
       "    </tr>\n",
       "    <tr>\n",
       "      <th>7</th>\n",
       "      <td>Fraude</td>\n",
       "      <td>0.000</td>\n",
       "      <td>1.000</td>\n",
       "      <td>1.000</td>\n",
       "      <td>0.001</td>\n",
       "      <td>0.000</td>\n",
       "      <td>0.036</td>\n",
       "      <td>27.780</td>\n",
       "      <td>769.703</td>\n",
       "    </tr>\n",
       "    <tr>\n",
       "      <th>8</th>\n",
       "      <td>SinalizadaFraude</td>\n",
       "      <td>0.000</td>\n",
       "      <td>1.000</td>\n",
       "      <td>1.000</td>\n",
       "      <td>0.000</td>\n",
       "      <td>0.000</td>\n",
       "      <td>0.002</td>\n",
       "      <td>630.604</td>\n",
       "      <td>397659.062</td>\n",
       "    </tr>\n",
       "  </tbody>\n",
       "</table>\n",
       "</div>"
      ],
      "text/plain": [
       "         attributes   min           max         range        mean      median  \\\n",
       "0        Unnamed: 0 0.000   6362619.000   6362619.000 3181309.500 3181309.500   \n",
       "1            Passos 1.000       743.000       742.000     243.397     239.000   \n",
       "2           Quantia 0.000  92445516.640  92445516.640  179861.904   74871.940   \n",
       "3   SaldoInicalOrig 0.000  59585040.370  59585040.370  833883.104   14208.000   \n",
       "4    SaldoFinalOrig 0.000  49585040.370  49585040.370  855113.669       0.000   \n",
       "5  SaldoInicialDest 0.000 356015889.350 356015889.350 1100701.667  132705.665   \n",
       "6    SaldoFinalDest 0.000 356179278.920 356179278.920 1224996.398  214661.440   \n",
       "7            Fraude 0.000         1.000         1.000       0.001       0.000   \n",
       "8  SinalizadaFraude 0.000         1.000         1.000       0.000       0.000   \n",
       "\n",
       "          std    skew   kurtosis  \n",
       "0 1836730.185   0.000     -1.200  \n",
       "1     142.332   0.375      0.329  \n",
       "2  603858.184  30.994   1797.957  \n",
       "3 2888242.446   5.249     32.965  \n",
       "4 2924048.273   5.177     32.067  \n",
       "5 3399179.846  19.922    948.674  \n",
       "6 3674128.653  19.352    862.157  \n",
       "7       0.036  27.780    769.703  \n",
       "8       0.002 630.604 397659.062  "
      ]
     },
     "execution_count": 12,
     "metadata": {},
     "output_type": "execute_result"
    }
   ],
   "source": [
    "m = show_descriptive_statistical(num_attributes)\n",
    "m"
   ]
  },
  {
   "cell_type": "code",
   "execution_count": 13,
   "metadata": {},
   "outputs": [
    {
     "data": {
      "text/html": [
       "<div>\n",
       "<style scoped>\n",
       "    .dataframe tbody tr th:only-of-type {\n",
       "        vertical-align: middle;\n",
       "    }\n",
       "\n",
       "    .dataframe tbody tr th {\n",
       "        vertical-align: top;\n",
       "    }\n",
       "\n",
       "    .dataframe thead th {\n",
       "        text-align: right;\n",
       "    }\n",
       "</style>\n",
       "<table border=\"1\" class=\"dataframe\">\n",
       "  <thead>\n",
       "    <tr style=\"text-align: right;\">\n",
       "      <th></th>\n",
       "      <th>Unnamed: 0</th>\n",
       "      <th>Passos</th>\n",
       "      <th>Tipo</th>\n",
       "      <th>Quantia</th>\n",
       "      <th>ClienteOrigem</th>\n",
       "      <th>SaldoInicalOrig</th>\n",
       "      <th>SaldoFinalOrig</th>\n",
       "      <th>ClienteDest</th>\n",
       "      <th>SaldoInicialDest</th>\n",
       "      <th>SaldoFinalDest</th>\n",
       "      <th>Fraude</th>\n",
       "      <th>SinalizadaFraude</th>\n",
       "    </tr>\n",
       "  </thead>\n",
       "  <tbody>\n",
       "    <tr>\n",
       "      <th>6362615</th>\n",
       "      <td>6362615</td>\n",
       "      <td>743</td>\n",
       "      <td>CASH_OUT</td>\n",
       "      <td>339682.130</td>\n",
       "      <td>C786484425</td>\n",
       "      <td>339682.130</td>\n",
       "      <td>0.000</td>\n",
       "      <td>C776919290</td>\n",
       "      <td>0.000</td>\n",
       "      <td>339682.130</td>\n",
       "      <td>1</td>\n",
       "      <td>0</td>\n",
       "    </tr>\n",
       "    <tr>\n",
       "      <th>6362616</th>\n",
       "      <td>6362616</td>\n",
       "      <td>743</td>\n",
       "      <td>TRANSFER</td>\n",
       "      <td>6311409.280</td>\n",
       "      <td>C1529008245</td>\n",
       "      <td>6311409.280</td>\n",
       "      <td>0.000</td>\n",
       "      <td>C1881841831</td>\n",
       "      <td>0.000</td>\n",
       "      <td>0.000</td>\n",
       "      <td>1</td>\n",
       "      <td>0</td>\n",
       "    </tr>\n",
       "    <tr>\n",
       "      <th>6362617</th>\n",
       "      <td>6362617</td>\n",
       "      <td>743</td>\n",
       "      <td>CASH_OUT</td>\n",
       "      <td>6311409.280</td>\n",
       "      <td>C1162922333</td>\n",
       "      <td>6311409.280</td>\n",
       "      <td>0.000</td>\n",
       "      <td>C1365125890</td>\n",
       "      <td>68488.840</td>\n",
       "      <td>6379898.110</td>\n",
       "      <td>1</td>\n",
       "      <td>0</td>\n",
       "    </tr>\n",
       "    <tr>\n",
       "      <th>6362618</th>\n",
       "      <td>6362618</td>\n",
       "      <td>743</td>\n",
       "      <td>TRANSFER</td>\n",
       "      <td>850002.520</td>\n",
       "      <td>C1685995037</td>\n",
       "      <td>850002.520</td>\n",
       "      <td>0.000</td>\n",
       "      <td>C2080388513</td>\n",
       "      <td>0.000</td>\n",
       "      <td>0.000</td>\n",
       "      <td>1</td>\n",
       "      <td>0</td>\n",
       "    </tr>\n",
       "    <tr>\n",
       "      <th>6362619</th>\n",
       "      <td>6362619</td>\n",
       "      <td>743</td>\n",
       "      <td>CASH_OUT</td>\n",
       "      <td>850002.520</td>\n",
       "      <td>C1280323807</td>\n",
       "      <td>850002.520</td>\n",
       "      <td>0.000</td>\n",
       "      <td>C873221189</td>\n",
       "      <td>6510099.110</td>\n",
       "      <td>7360101.630</td>\n",
       "      <td>1</td>\n",
       "      <td>0</td>\n",
       "    </tr>\n",
       "  </tbody>\n",
       "</table>\n",
       "</div>"
      ],
      "text/plain": [
       "         Unnamed: 0  Passos      Tipo     Quantia ClienteOrigem  \\\n",
       "6362615     6362615     743  CASH_OUT  339682.130    C786484425   \n",
       "6362616     6362616     743  TRANSFER 6311409.280   C1529008245   \n",
       "6362617     6362617     743  CASH_OUT 6311409.280   C1162922333   \n",
       "6362618     6362618     743  TRANSFER  850002.520   C1685995037   \n",
       "6362619     6362619     743  CASH_OUT  850002.520   C1280323807   \n",
       "\n",
       "         SaldoInicalOrig  SaldoFinalOrig  ClienteDest  SaldoInicialDest  \\\n",
       "6362615       339682.130           0.000   C776919290             0.000   \n",
       "6362616      6311409.280           0.000  C1881841831             0.000   \n",
       "6362617      6311409.280           0.000  C1365125890         68488.840   \n",
       "6362618       850002.520           0.000  C2080388513             0.000   \n",
       "6362619       850002.520           0.000   C873221189       6510099.110   \n",
       "\n",
       "         SaldoFinalDest  Fraude  SinalizadaFraude  \n",
       "6362615      339682.130       1                 0  \n",
       "6362616           0.000       1                 0  \n",
       "6362617     6379898.110       1                 0  \n",
       "6362618           0.000       1                 0  \n",
       "6362619     7360101.630       1                 0  "
      ]
     },
     "execution_count": 13,
     "metadata": {},
     "output_type": "execute_result"
    }
   ],
   "source": [
    "base_fraude_raw1.tail()"
   ]
  },
  {
   "attachments": {},
   "cell_type": "markdown",
   "metadata": {},
   "source": [
    "### 1.8.2 - CATEGORICAL ATRIBUTES\n",
    "\n"
   ]
  },
  {
   "cell_type": "code",
   "execution_count": 14,
   "metadata": {},
   "outputs": [
    {
     "data": {
      "text/plain": [
       "Tipo                   5\n",
       "ClienteOrigem    6353307\n",
       "ClienteDest      2722362\n",
       "dtype: int64"
      ]
     },
     "execution_count": 14,
     "metadata": {},
     "output_type": "execute_result"
    }
   ],
   "source": [
    "cat_attributes.apply(lambda x: x.unique().shape[0])"
   ]
  },
  {
   "attachments": {},
   "cell_type": "markdown",
   "metadata": {},
   "source": [
    "## 2.0 - FEATURE ENGINEERING- PARTE I"
   ]
  },
  {
   "cell_type": "code",
   "execution_count": 15,
   "metadata": {},
   "outputs": [],
   "source": [
    "#base_fraude_raw2 = base_fraude_raw1.copy()\n",
    "#base_fraude_raw2.to_csv(HOME_PATH+INTERIM_DATA_PATH+'base_fraude_raw2.csv')\n",
    "base_fraude_raw2 = pd.read_csv(HOME_PATH+INTERIM_DATA_PATH+'base_fraude_raw2.csv')"
   ]
  },
  {
   "attachments": {},
   "cell_type": "markdown",
   "metadata": {},
   "source": [
    "## 2.1 - MAPA MENTAL DE HIPOTESE"
   ]
  },
  {
   "attachments": {},
   "cell_type": "markdown",
   "metadata": {},
   "source": [
    "<img src= \"/home/valmir/Documentos/deteccao_fraude/reports/figures/FRAUDE.jpg\" width=\"1200\" height= \"350\">"
   ]
  },
  {
   "attachments": {},
   "cell_type": "markdown",
   "metadata": {},
   "source": [
    "\n",
    "## 2.2 - CRIAÇÃO DAS HIPOTESE"
   ]
  },
  {
   "attachments": {},
   "cell_type": "markdown",
   "metadata": {},
   "source": [
    "### TRANSAÇÕES \n",
    " * QUANDO OS VALORES DAS TRANSAÇÕES FOREM MUITO ALTOS OU INCOMUNS EM RELAÇÃO AOS PADRÕES COMUNS DO CLIENTE, SERAM CLASSIFICADOS COMO FRAUDES;\n",
    "\n",
    " * QUANDO AS TRANSAÇÕES FOREM REALIZADAS EM HORÁRIOS ATÍPICOS AOS PADRÕES COMUNS REALIZADAS PELO CLIENTE, SERAM CLASSIFICADOS COMO FRAUDES;\n",
    "\n",
    " * QUANDO AS TRANSAÇÕES FOREM REALIZADAS EM MOMENTOS DE TEMPO MUITO CURTOS, SERAM CLASSIFICADOS COMO FRAUDES; \n",
    "\n",
    " ### COMPORTAMENTO DO CLIENTE\n",
    " * QUANDO HOUVER MUDANÇAS REPENTINAS DOS VALORES DOS GASTOS E/OU DA FORMA DE TRANSAÇÃO TÍPICA DO CLIENTE, SERAM CLASSIFICADOS COMO FRAUDES;\n",
    "\n",
    " * QUANDO AS TRANSAÇÕES MUDAREM REPENTINAMENTE DO TIPO DA CATEGORIA QUE O CLIENTE EVENTUALMENTE REALIZA, SERAM CLASSIFICADOS COMO FRAUDES;\n",
    "\n",
    " * QUANDO HOUVER A TROCA DESORDENADA DO CARTÃO QUE O CLIENTE UTILIZA EVENTUALMENTE EM SUAS TRANSAÇÕES, SERAM CLASSIFICADOS COMO FRAUDES;\n",
    "\n",
    " ### DADOS DE AUTENTICAÇÃO\n",
    " * QUANDO HOUVER MULTIPLAS TENTATIVAS ERRADAS, SOLICITAÇÃO DE NOVA SENHA ANTES DO CLIENTE CONSEGUIR LOGAR, SERAM CLASSIFICADOS COMO FRAUDES;\n",
    " \n",
    " ### TRANSAÇÕES SUSPEITAS\n",
    " * QUANDO HOUVER TRANSFERENCIAS PARA CONTAS DIVERSAS DAS HABITUAIS REALIZADAS PELO CLIENTE, SERAM CLASSIFICADOS COMO FRAUDES;\n",
    " \n",
    " * QUANDO HOUVER TRANSFERENCIAS PARA CONTAS INTERNACIONAIS COM FREQUENCIAS DE CURTO ESPAÇO DE TEMPO, SERAM CLASSIFICADOS COMO FRAUDES;\n"
   ]
  },
  {
   "attachments": {},
   "cell_type": "markdown",
   "metadata": {},
   "source": [
    "## 2.3 - LISTA FINAL DE HIPOTESE"
   ]
  },
  {
   "attachments": {},
   "cell_type": "markdown",
   "metadata": {},
   "source": [
    "### TRANSAÇÕES \n",
    " * QUANDO OS VALORES DAS TRANSAÇÕES FOREM MUITO ALTOS OU INCOMUNS EM RELAÇÃO AOS PADRÕES COMUNS DO CLIENTE, SERAM CLASSIFICADOS COMO FRAUDES;\n",
    "\n",
    " * QUANDO AS TRANSAÇÕES FOREM REALIZADAS EM MOMENTOS DE TEMPO MUITO CURTOS, SERAM CLASSIFICADOS COMO FRAUDES; \n",
    "\n",
    " ### COMPORTAMENTO DO CLIENTE\n",
    " * QUANDO HOUVER MUDANÇAS REPENTINAS DOS VALORES DOS GASTOS E/OU DA FORMA DE TRANSAÇÃO TÍPICA DO CLIENTE, SERAM CLASSIFICADOS COMO FRAUDES;\n",
    "\n",
    " ### TRANSAÇÕES SUSPEITAS\n",
    " * QUANDO HOUVER TRANSFERENCIAS PARA CONTAS DIVERSAS DAS HABITUAIS REALIZADAS PELO CLIENTE, SERAM CLASSIFICADOS COMO FRAUDES;\n",
    " \n",
    " "
   ]
  },
  {
   "attachments": {},
   "cell_type": "markdown",
   "metadata": {},
   "source": [
    "## 2.4 - FEATURE ENGINEERING - PARTE 1"
   ]
  },
  {
   "attachments": {},
   "cell_type": "markdown",
   "metadata": {},
   "source": [
    "`QUANTAS TRANSAÇÕES REALIZOU CADA CLIENTE? ` \n",
    "Criei a coluna chamada FreqCliente que nada mais é que a frequencia de transações por cliente"
   ]
  },
  {
   "cell_type": "code",
   "execution_count": 20,
   "metadata": {},
   "outputs": [
    {
     "data": {
      "text/html": [
       "<div>\n",
       "<style scoped>\n",
       "    .dataframe tbody tr th:only-of-type {\n",
       "        vertical-align: middle;\n",
       "    }\n",
       "\n",
       "    .dataframe tbody tr th {\n",
       "        vertical-align: top;\n",
       "    }\n",
       "\n",
       "    .dataframe thead th {\n",
       "        text-align: right;\n",
       "    }\n",
       "</style>\n",
       "<table border=\"1\" class=\"dataframe\">\n",
       "  <thead>\n",
       "    <tr style=\"text-align: right;\">\n",
       "      <th></th>\n",
       "      <th>Unnamed: 0.1</th>\n",
       "      <th>Unnamed: 0</th>\n",
       "      <th>Passos</th>\n",
       "      <th>Tipo</th>\n",
       "      <th>Quantia</th>\n",
       "      <th>ClienteOrigem</th>\n",
       "      <th>SaldoInicalOrig</th>\n",
       "      <th>SaldoFinalOrig</th>\n",
       "      <th>ClienteDest</th>\n",
       "      <th>SaldoInicialDest</th>\n",
       "      <th>SaldoFinalDest</th>\n",
       "      <th>Fraude</th>\n",
       "      <th>SinalizadaFraude</th>\n",
       "      <th>FreqCliente</th>\n",
       "    </tr>\n",
       "  </thead>\n",
       "  <tbody>\n",
       "    <tr>\n",
       "      <th>0</th>\n",
       "      <td>0</td>\n",
       "      <td>0</td>\n",
       "      <td>1</td>\n",
       "      <td>PAYMENT</td>\n",
       "      <td>9839.640</td>\n",
       "      <td>C1231006815</td>\n",
       "      <td>170136.000</td>\n",
       "      <td>160296.360</td>\n",
       "      <td>M1979787155</td>\n",
       "      <td>0.000</td>\n",
       "      <td>0.000</td>\n",
       "      <td>0</td>\n",
       "      <td>0</td>\n",
       "      <td>1</td>\n",
       "    </tr>\n",
       "    <tr>\n",
       "      <th>1</th>\n",
       "      <td>1</td>\n",
       "      <td>1</td>\n",
       "      <td>1</td>\n",
       "      <td>PAYMENT</td>\n",
       "      <td>1864.280</td>\n",
       "      <td>C1666544295</td>\n",
       "      <td>21249.000</td>\n",
       "      <td>19384.720</td>\n",
       "      <td>M2044282225</td>\n",
       "      <td>0.000</td>\n",
       "      <td>0.000</td>\n",
       "      <td>0</td>\n",
       "      <td>0</td>\n",
       "      <td>1</td>\n",
       "    </tr>\n",
       "    <tr>\n",
       "      <th>2</th>\n",
       "      <td>2</td>\n",
       "      <td>2</td>\n",
       "      <td>1</td>\n",
       "      <td>TRANSFER</td>\n",
       "      <td>181.000</td>\n",
       "      <td>C1305486145</td>\n",
       "      <td>181.000</td>\n",
       "      <td>0.000</td>\n",
       "      <td>C553264065</td>\n",
       "      <td>0.000</td>\n",
       "      <td>0.000</td>\n",
       "      <td>1</td>\n",
       "      <td>0</td>\n",
       "      <td>1</td>\n",
       "    </tr>\n",
       "    <tr>\n",
       "      <th>3</th>\n",
       "      <td>3</td>\n",
       "      <td>3</td>\n",
       "      <td>1</td>\n",
       "      <td>CASH_OUT</td>\n",
       "      <td>181.000</td>\n",
       "      <td>C840083671</td>\n",
       "      <td>181.000</td>\n",
       "      <td>0.000</td>\n",
       "      <td>C38997010</td>\n",
       "      <td>21182.000</td>\n",
       "      <td>0.000</td>\n",
       "      <td>1</td>\n",
       "      <td>0</td>\n",
       "      <td>1</td>\n",
       "    </tr>\n",
       "    <tr>\n",
       "      <th>4</th>\n",
       "      <td>4</td>\n",
       "      <td>4</td>\n",
       "      <td>1</td>\n",
       "      <td>PAYMENT</td>\n",
       "      <td>11668.140</td>\n",
       "      <td>C2048537720</td>\n",
       "      <td>41554.000</td>\n",
       "      <td>29885.860</td>\n",
       "      <td>M1230701703</td>\n",
       "      <td>0.000</td>\n",
       "      <td>0.000</td>\n",
       "      <td>0</td>\n",
       "      <td>0</td>\n",
       "      <td>1</td>\n",
       "    </tr>\n",
       "    <tr>\n",
       "      <th>...</th>\n",
       "      <td>...</td>\n",
       "      <td>...</td>\n",
       "      <td>...</td>\n",
       "      <td>...</td>\n",
       "      <td>...</td>\n",
       "      <td>...</td>\n",
       "      <td>...</td>\n",
       "      <td>...</td>\n",
       "      <td>...</td>\n",
       "      <td>...</td>\n",
       "      <td>...</td>\n",
       "      <td>...</td>\n",
       "      <td>...</td>\n",
       "      <td>...</td>\n",
       "    </tr>\n",
       "    <tr>\n",
       "      <th>6362615</th>\n",
       "      <td>6362615</td>\n",
       "      <td>6362615</td>\n",
       "      <td>743</td>\n",
       "      <td>CASH_OUT</td>\n",
       "      <td>339682.130</td>\n",
       "      <td>C786484425</td>\n",
       "      <td>339682.130</td>\n",
       "      <td>0.000</td>\n",
       "      <td>C776919290</td>\n",
       "      <td>0.000</td>\n",
       "      <td>339682.130</td>\n",
       "      <td>1</td>\n",
       "      <td>0</td>\n",
       "      <td>1</td>\n",
       "    </tr>\n",
       "    <tr>\n",
       "      <th>6362616</th>\n",
       "      <td>6362616</td>\n",
       "      <td>6362616</td>\n",
       "      <td>743</td>\n",
       "      <td>TRANSFER</td>\n",
       "      <td>6311409.280</td>\n",
       "      <td>C1529008245</td>\n",
       "      <td>6311409.280</td>\n",
       "      <td>0.000</td>\n",
       "      <td>C1881841831</td>\n",
       "      <td>0.000</td>\n",
       "      <td>0.000</td>\n",
       "      <td>1</td>\n",
       "      <td>0</td>\n",
       "      <td>1</td>\n",
       "    </tr>\n",
       "    <tr>\n",
       "      <th>6362617</th>\n",
       "      <td>6362617</td>\n",
       "      <td>6362617</td>\n",
       "      <td>743</td>\n",
       "      <td>CASH_OUT</td>\n",
       "      <td>6311409.280</td>\n",
       "      <td>C1162922333</td>\n",
       "      <td>6311409.280</td>\n",
       "      <td>0.000</td>\n",
       "      <td>C1365125890</td>\n",
       "      <td>68488.840</td>\n",
       "      <td>6379898.110</td>\n",
       "      <td>1</td>\n",
       "      <td>0</td>\n",
       "      <td>1</td>\n",
       "    </tr>\n",
       "    <tr>\n",
       "      <th>6362618</th>\n",
       "      <td>6362618</td>\n",
       "      <td>6362618</td>\n",
       "      <td>743</td>\n",
       "      <td>TRANSFER</td>\n",
       "      <td>850002.520</td>\n",
       "      <td>C1685995037</td>\n",
       "      <td>850002.520</td>\n",
       "      <td>0.000</td>\n",
       "      <td>C2080388513</td>\n",
       "      <td>0.000</td>\n",
       "      <td>0.000</td>\n",
       "      <td>1</td>\n",
       "      <td>0</td>\n",
       "      <td>1</td>\n",
       "    </tr>\n",
       "    <tr>\n",
       "      <th>6362619</th>\n",
       "      <td>6362619</td>\n",
       "      <td>6362619</td>\n",
       "      <td>743</td>\n",
       "      <td>CASH_OUT</td>\n",
       "      <td>850002.520</td>\n",
       "      <td>C1280323807</td>\n",
       "      <td>850002.520</td>\n",
       "      <td>0.000</td>\n",
       "      <td>C873221189</td>\n",
       "      <td>6510099.110</td>\n",
       "      <td>7360101.630</td>\n",
       "      <td>1</td>\n",
       "      <td>0</td>\n",
       "      <td>1</td>\n",
       "    </tr>\n",
       "  </tbody>\n",
       "</table>\n",
       "<p>6362620 rows × 14 columns</p>\n",
       "</div>"
      ],
      "text/plain": [
       "         Unnamed: 0.1  Unnamed: 0  Passos      Tipo     Quantia ClienteOrigem  \\\n",
       "0                   0           0       1   PAYMENT    9839.640   C1231006815   \n",
       "1                   1           1       1   PAYMENT    1864.280   C1666544295   \n",
       "2                   2           2       1  TRANSFER     181.000   C1305486145   \n",
       "3                   3           3       1  CASH_OUT     181.000    C840083671   \n",
       "4                   4           4       1   PAYMENT   11668.140   C2048537720   \n",
       "...               ...         ...     ...       ...         ...           ...   \n",
       "6362615       6362615     6362615     743  CASH_OUT  339682.130    C786484425   \n",
       "6362616       6362616     6362616     743  TRANSFER 6311409.280   C1529008245   \n",
       "6362617       6362617     6362617     743  CASH_OUT 6311409.280   C1162922333   \n",
       "6362618       6362618     6362618     743  TRANSFER  850002.520   C1685995037   \n",
       "6362619       6362619     6362619     743  CASH_OUT  850002.520   C1280323807   \n",
       "\n",
       "         SaldoInicalOrig  SaldoFinalOrig  ClienteDest  SaldoInicialDest  \\\n",
       "0             170136.000      160296.360  M1979787155             0.000   \n",
       "1              21249.000       19384.720  M2044282225             0.000   \n",
       "2                181.000           0.000   C553264065             0.000   \n",
       "3                181.000           0.000    C38997010         21182.000   \n",
       "4              41554.000       29885.860  M1230701703             0.000   \n",
       "...                  ...             ...          ...               ...   \n",
       "6362615       339682.130           0.000   C776919290             0.000   \n",
       "6362616      6311409.280           0.000  C1881841831             0.000   \n",
       "6362617      6311409.280           0.000  C1365125890         68488.840   \n",
       "6362618       850002.520           0.000  C2080388513             0.000   \n",
       "6362619       850002.520           0.000   C873221189       6510099.110   \n",
       "\n",
       "         SaldoFinalDest  Fraude  SinalizadaFraude  FreqCliente  \n",
       "0                 0.000       0                 0            1  \n",
       "1                 0.000       0                 0            1  \n",
       "2                 0.000       1                 0            1  \n",
       "3                 0.000       1                 0            1  \n",
       "4                 0.000       0                 0            1  \n",
       "...                 ...     ...               ...          ...  \n",
       "6362615      339682.130       1                 0            1  \n",
       "6362616           0.000       1                 0            1  \n",
       "6362617     6379898.110       1                 0            1  \n",
       "6362618           0.000       1                 0            1  \n",
       "6362619     7360101.630       1                 0            1  \n",
       "\n",
       "[6362620 rows x 14 columns]"
      ]
     },
     "execution_count": 20,
     "metadata": {},
     "output_type": "execute_result"
    }
   ],
   "source": [
    "base_fraude_raw2['FreqCliente'] = base_fraude_raw2.groupby('ClienteOrigem')['ClienteOrigem'].transform('count')\n",
    "base_fraude_raw2"
   ]
  },
  {
   "attachments": {},
   "cell_type": "markdown",
   "metadata": {},
   "source": [
    "## 3.0 - FILTRAGEM DE VARIAVEIS "
   ]
  },
  {
   "cell_type": "code",
   "execution_count": 16,
   "metadata": {},
   "outputs": [],
   "source": [
    "base_fraude_raw3 = base_fraude_raw2.copy()\n",
    "base_fraude_raw3.to_csv(HOME_PATH+INTERIM_DATA_PATH+'base_fraude_raw3.csv')\n",
    "base_fraude_raw3 = pd.read_csv(HOME_PATH+INTERIM_DATA_PATH+'base_fraude_raw3.csv')"
   ]
  },
  {
   "attachments": {},
   "cell_type": "markdown",
   "metadata": {},
   "source": [
    "## 3.1 - FILTRAGEM DE LINHAS \n",
    "Devido termos poucas colunas a quantidade de linhas farão toda a diferença, visto que não possuimos valores nulos e o valores `0` em algumas \n",
    "\n",
    "linhas são afirmações de `NÃO TRANSAÇÃO`, impactando assim, diretamente nos resultados finais."
   ]
  },
  {
   "attachments": {},
   "cell_type": "markdown",
   "metadata": {},
   "source": [
    "## 3.2 - FILTRAGEM DE COLUNAS - SELEÇÃO DAS COLUNAS"
   ]
  },
  {
   "attachments": {},
   "cell_type": "markdown",
   "metadata": {},
   "source": [
    "Devido termos poucas colunas a quantidade de linhas farão toda a diferença, visto que não possuimos valores nulos e o valores `0` em algumas \n",
    "\n",
    "linhas são afirmações de `NÃO TRANSAÇÃO`, impactando assim, diretamente nos resultados finais."
   ]
  }
 ],
 "metadata": {
  "kernelspec": {
   "display_name": "Python 3",
   "language": "python",
   "name": "python3"
  },
  "language_info": {
   "codemirror_mode": {
    "name": "ipython",
    "version": 3
   },
   "file_extension": ".py",
   "mimetype": "text/x-python",
   "name": "python",
   "nbconvert_exporter": "python",
   "pygments_lexer": "ipython3",
   "version": "3.10.6"
  },
  "orig_nbformat": 4
 },
 "nbformat": 4,
 "nbformat_minor": 2
}
