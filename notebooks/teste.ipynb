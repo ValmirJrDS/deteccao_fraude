{
 "cells": [
  {
   "cell_type": "code",
   "execution_count": null,
   "metadata": {},
   "outputs": [],
   "source": [
    "base_reduz = 'base_reduz.csv'\n",
    "caminho_salvar = '/home/valmir/Documentos/deteccao_fraude/data/raw' + base_reduz\n",
    "base_fraude_raw4.to_csv(caminho_salvar, index=False)"
   ]
  },
  {
   "cell_type": "code",
   "execution_count": null,
   "metadata": {},
   "outputs": [],
   "source": [
    "X_train.memory_usage().sum() / 1024**2"
   ]
  },
  {
   "cell_type": "code",
   "execution_count": null,
   "metadata": {},
   "outputs": [],
   "source": [
    "\n",
    "# Dividir a base de dados em treino, validação e teste usando amostragem estratificada\n",
    "X = base_fraude_real.drop('Tipo', axis=1)  # Variáveis preditoras\n",
    "y = base_fraude_real['Tipo']  # Variável alvo\n",
    "\n",
    "X_train, X_test, y_train, y_test = train_test_split(X, y, test_size=0.15, stratify=y, random_state=42)\n",
    "X_train, X_val, y_train, y_val = train_test_split(X_train, y_train, test_size=0.15, stratify=y_train, random_state=42)"
   ]
  },
  {
   "cell_type": "code",
   "execution_count": null,
   "metadata": {},
   "outputs": [],
   "source": [
    "# Verificar o tamanho dos conjuntos de treino, validação e teste\n",
    "print(\"Tamanho do conjunto de treino:\", len(X_train))\n",
    "print(\"Tamanho do conjunto de validação:\", len(X_val))\n",
    "print(\"Tamanho do conjunto de teste:\", len(X_test))"
   ]
  },
  {
   "cell_type": "code",
   "execution_count": null,
   "metadata": {},
   "outputs": [],
   "source": [
    "    plt.figure(figsize=(15, 5))\n",
    "    plt.subplot(1, 3, 1)\n",
    "    sns.heatmap(formatted_matrix, annot=True, cmap='Greens')\n",
    "    plt.title(f'Confusion Matrix - {model_name}')\n",
    "    np.set_printoptions(precision=3, suppress=True)"
   ]
  },
  {
   "cell_type": "code",
   "execution_count": null,
   "metadata": {},
   "outputs": [],
   "source": [
    "xgboost = xgb.XGBClassifier(learning_rate= 0.1, n_estimators=100, max_depth=3)"
   ]
  }
 ],
 "metadata": {
  "kernelspec": {
   "display_name": "Python 3",
   "language": "python",
   "name": "python3"
  },
  "language_info": {
   "name": "python",
   "version": "3.10.12"
  },
  "orig_nbformat": 4
 },
 "nbformat": 4,
 "nbformat_minor": 2
}
