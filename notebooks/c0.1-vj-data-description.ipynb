{
 "cells": [
  {
   "attachments": {},
   "cell_type": "markdown",
   "metadata": {},
   "source": []
  },
  {
   "attachments": {},
   "cell_type": "markdown",
   "metadata": {},
   "source": [
    "## 0.0 IMPORTS"
   ]
  },
  {
   "cell_type": "code",
   "execution_count": 1,
   "metadata": {},
   "outputs": [],
   "source": [
    "import pandas as pd\n",
    "import numpy as np\n",
    "import seaborn as sns\n",
    "import matplotlib.pyplot as plt\n",
    "import plotly.express as px\n",
    "from scipy.stats import kurtosis, skew, norm\n",
    "import math\n",
    "import statistics\n",
    "from scipy.stats import chi2\n",
    "\n",
    "pd.set_option('float_format', '{:.3f}'.format)"
   ]
  },
  {
   "attachments": {},
   "cell_type": "markdown",
   "metadata": {},
   "source": [
    "## 0.1 - HELPER FUNCTION (FUNÇÕES AUXILIARES)"
   ]
  },
  {
   "cell_type": "code",
   "execution_count": 2,
   "metadata": {},
   "outputs": [],
   "source": [
    "def show_descriptive_statistical(df):\n",
    "    # Central Tendency - mean, median\n",
    "    ct1 = pd.DataFrame(df.apply(np.mean)).T\n",
    "    ct2 = pd.DataFrame(df.apply(np.median)).T\n",
    "\n",
    "    # Dispersion - std, min, max, range, skew, kurtosis\n",
    "    d1 = pd.DataFrame(df.apply(np.std)).T\n",
    "    d2 = pd.DataFrame(df.apply(min)).T\n",
    "    d3 = pd.DataFrame(df.apply(max)).T\n",
    "    d4 = pd.DataFrame(df.apply(lambda x: x.max() - x.min())).T\n",
    "    d5 = pd.DataFrame(df.apply(lambda x: x.skew())).T\n",
    "    d6 = pd.DataFrame(df.apply(lambda x: x.kurtosis())).T\n",
    "\n",
    "    m = pd.concat([d2, d3, d4, ct1, ct2, d1, d5, d6]).T.reset_index()\n",
    "    m.columns = ['attributes', 'min', 'max', 'range', 'mean', 'median', 'std', 'skew', 'kurtosis']\n",
    "    return m"
   ]
  },
  {
   "attachments": {},
   "cell_type": "markdown",
   "metadata": {},
   "source": [
    "## 0.2 - PATH DEFINITION"
   ]
  },
  {
   "cell_type": "code",
   "execution_count": 4,
   "metadata": {},
   "outputs": [],
   "source": [
    "HOME_PATH = '/home/valmir/Documentos/deteccao_fraude/'\n",
    "RAW_DATA_PATH = 'data/raw/'\n",
    "INTERIM_DATA_PATH = 'data/intermediario/'\n",
    "FIGURE_PATH = 'reports/figures/'"
   ]
  },
  {
   "attachments": {},
   "cell_type": "markdown",
   "metadata": {},
   "source": [
    "## 0.3 - LOAD DATA"
   ]
  },
  {
   "cell_type": "code",
   "execution_count": 5,
   "metadata": {},
   "outputs": [
    {
     "data": {
      "text/html": [
       "<div>\n",
       "<style scoped>\n",
       "    .dataframe tbody tr th:only-of-type {\n",
       "        vertical-align: middle;\n",
       "    }\n",
       "\n",
       "    .dataframe tbody tr th {\n",
       "        vertical-align: top;\n",
       "    }\n",
       "\n",
       "    .dataframe thead th {\n",
       "        text-align: right;\n",
       "    }\n",
       "</style>\n",
       "<table border=\"1\" class=\"dataframe\">\n",
       "  <thead>\n",
       "    <tr style=\"text-align: right;\">\n",
       "      <th></th>\n",
       "      <th>step</th>\n",
       "      <th>type</th>\n",
       "      <th>amount</th>\n",
       "      <th>nameOrig</th>\n",
       "      <th>oldbalanceOrg</th>\n",
       "      <th>newbalanceOrig</th>\n",
       "      <th>nameDest</th>\n",
       "      <th>oldbalanceDest</th>\n",
       "      <th>newbalanceDest</th>\n",
       "      <th>isFraud</th>\n",
       "      <th>isFlaggedFraud</th>\n",
       "    </tr>\n",
       "  </thead>\n",
       "  <tbody>\n",
       "    <tr>\n",
       "      <th>0</th>\n",
       "      <td>1</td>\n",
       "      <td>PAYMENT</td>\n",
       "      <td>9920.520</td>\n",
       "      <td>C764826684</td>\n",
       "      <td>0.000</td>\n",
       "      <td>0.000</td>\n",
       "      <td>M1940055334</td>\n",
       "      <td>0.000</td>\n",
       "      <td>0.000</td>\n",
       "      <td>0</td>\n",
       "      <td>0</td>\n",
       "    </tr>\n",
       "    <tr>\n",
       "      <th>1</th>\n",
       "      <td>1</td>\n",
       "      <td>PAYMENT</td>\n",
       "      <td>3448.920</td>\n",
       "      <td>C2103763750</td>\n",
       "      <td>0.000</td>\n",
       "      <td>0.000</td>\n",
       "      <td>M335107734</td>\n",
       "      <td>0.000</td>\n",
       "      <td>0.000</td>\n",
       "      <td>0</td>\n",
       "      <td>0</td>\n",
       "    </tr>\n",
       "    <tr>\n",
       "      <th>2</th>\n",
       "      <td>1</td>\n",
       "      <td>PAYMENT</td>\n",
       "      <td>4206.840</td>\n",
       "      <td>C215078753</td>\n",
       "      <td>0.000</td>\n",
       "      <td>0.000</td>\n",
       "      <td>M1757317128</td>\n",
       "      <td>0.000</td>\n",
       "      <td>0.000</td>\n",
       "      <td>0</td>\n",
       "      <td>0</td>\n",
       "    </tr>\n",
       "    <tr>\n",
       "      <th>3</th>\n",
       "      <td>1</td>\n",
       "      <td>PAYMENT</td>\n",
       "      <td>5885.560</td>\n",
       "      <td>C840514538</td>\n",
       "      <td>0.000</td>\n",
       "      <td>0.000</td>\n",
       "      <td>M1804441305</td>\n",
       "      <td>0.000</td>\n",
       "      <td>0.000</td>\n",
       "      <td>0</td>\n",
       "      <td>0</td>\n",
       "    </tr>\n",
       "    <tr>\n",
       "      <th>4</th>\n",
       "      <td>1</td>\n",
       "      <td>PAYMENT</td>\n",
       "      <td>5307.880</td>\n",
       "      <td>C1768242710</td>\n",
       "      <td>0.000</td>\n",
       "      <td>0.000</td>\n",
       "      <td>M1971783162</td>\n",
       "      <td>0.000</td>\n",
       "      <td>0.000</td>\n",
       "      <td>0</td>\n",
       "      <td>0</td>\n",
       "    </tr>\n",
       "  </tbody>\n",
       "</table>\n",
       "</div>"
      ],
      "text/plain": [
       "   step     type   amount     nameOrig  oldbalanceOrg  newbalanceOrig  \\\n",
       "0     1  PAYMENT 9920.520   C764826684          0.000           0.000   \n",
       "1     1  PAYMENT 3448.920  C2103763750          0.000           0.000   \n",
       "2     1  PAYMENT 4206.840   C215078753          0.000           0.000   \n",
       "3     1  PAYMENT 5885.560   C840514538          0.000           0.000   \n",
       "4     1  PAYMENT 5307.880  C1768242710          0.000           0.000   \n",
       "\n",
       "      nameDest  oldbalanceDest  newbalanceDest  isFraud  isFlaggedFraud  \n",
       "0  M1940055334           0.000           0.000        0               0  \n",
       "1   M335107734           0.000           0.000        0               0  \n",
       "2  M1757317128           0.000           0.000        0               0  \n",
       "3  M1804441305           0.000           0.000        0               0  \n",
       "4  M1971783162           0.000           0.000        0               0  "
      ]
     },
     "execution_count": 5,
     "metadata": {},
     "output_type": "execute_result"
    }
   ],
   "source": [
    "base_fraude_raw = pd.read_csv(HOME_PATH+RAW_DATA_PATH+'fraud_detection_dataset.csv')\n",
    "base_fraude_raw.head()"
   ]
  },
  {
   "attachments": {},
   "cell_type": "markdown",
   "metadata": {},
   "source": [
    "## 1.0 - DATA DESCRIPITION"
   ]
  },
  {
   "cell_type": "code",
   "execution_count": 8,
   "metadata": {},
   "outputs": [],
   "source": [
    "#base_fraude_raw1 = base_fraude_raw.copy()\n",
    "#base_fraude_raw1.to_csv(HOME_PATH+INTERIM_DATA_PATH+'base_fraude_raw1.csv')\n",
    "base_fraude_raw1 = pd.read_csv(HOME_PATH+INTERIM_DATA_PATH+'base_fraude_raw1.csv')\n"
   ]
  },
  {
   "attachments": {},
   "cell_type": "markdown",
   "metadata": {},
   "source": [
    "## 1.1 - DATA FIELD'S"
   ]
  },
  {
   "attachments": {},
   "cell_type": "markdown",
   "metadata": {},
   "source": [
    "Os dados contidos nesta base de dados são simulados e compreendem 30 dias. Estas transações podem ser de diferentes tipo e foram executadas via mobile devices. As features contidas nesta base de dados são:\n",
    "\n",
    " * `step` - Passo: representa o total de horas transcorrido desde o início da simulação. Esta feature vai variar entre 1 e 95(4 dias);\n",
    "\n",
    " * `type`: Tipo: tipo de transação(depósito, saque, débito, pagamento e transferencia);\n",
    "\n",
    " * `amount`: Quantia: total que foi transacionado;\n",
    "\n",
    " * `nameOring`: ClienteOrigem: cliente que iniciou atransação;\n",
    "\n",
    " * `oldbalanceOrg`: SaldoInicialOrigem: saldo da conta de origem antes da transação;\n",
    "\n",
    " * `newbalanceOrig`: SaldoFinalOrigem: saldo da conta de origem depois da transação;\n",
    "\n",
    " * `nameDest`: ClienteDestino: cliente de destino da transação;\n",
    "\n",
    " * `oldbalandeDestino`: SaldoInicialDestino: saldo da conta destino antes da transação;\n",
    "\n",
    " * _`newbalanceDest`_: SaldoFinalDestino: saldo da conta destino depois da transação;\n",
    "\n",
    " * `isFraud`: Fraude: flag que define se a transação é fraudolenta ou não. Nesta simulação de fraude é a assumir se 'a conta do usuario foi   esvaziada e transferindo o dinherio para outra conta e depois sacado\n",
    " \n",
    " * `IssFlaggedFraud`: SinalizadaFraude: automaticamente categorizada como fraude pelo banco por fraude por tentar trasnferir mais de 200 mil em uma única conta\n"
   ]
  },
  {
   "attachments": {},
   "cell_type": "markdown",
   "metadata": {},
   "source": [
    "## 1.2 - RENAME COLUMNS"
   ]
  },
  {
   "cell_type": "code",
   "execution_count": 11,
   "metadata": {},
   "outputs": [],
   "source": [
    "base_fraude_raw1.rename(columns={'step':'Passos', 'type':'Tipo', 'amount': 'Quantia',\n",
    "                                'nameOrig':'ClienteOrigem', 'oldbalanceOrg': 'SaldoInicalOrig',\n",
    "                                'newbalanceOrig':'SaldoFinalOrig', 'nameDest':'ClienteDest',\n",
    "                                'oldbalanceDest':'SaldoInicialDest', 'newbalanceDest':'SaldoFinalDest',\n",
    "                                'isFraud':'Fraude', 'isFlaggedFraud':'SinalizadaFraude'}, inplace=True)\n"
   ]
  },
  {
   "attachments": {},
   "cell_type": "markdown",
   "metadata": {},
   "source": [
    "## 1.3 - DATA DIMENSIONS"
   ]
  },
  {
   "cell_type": "code",
   "execution_count": 13,
   "metadata": {},
   "outputs": [
    {
     "name": "stdout",
     "output_type": "stream",
     "text": [
      "Numero de linhas 557123\n",
      "Numero de colunas 12\n"
     ]
    }
   ],
   "source": [
    "num_linhas, num_colunas = base_fraude_raw1.shape\n",
    "\n",
    "print('Numero de linhas', num_linhas)\n",
    "print('Numero de colunas', num_colunas)"
   ]
  },
  {
   "attachments": {},
   "cell_type": "markdown",
   "metadata": {},
   "source": [
    "## 1.4 - DATA TYPES"
   ]
  },
  {
   "cell_type": "code",
   "execution_count": 12,
   "metadata": {},
   "outputs": [
    {
     "data": {
      "text/plain": [
       "Unnamed: 0            int64\n",
       "Passos                int64\n",
       "Tipo                 object\n",
       "Quantia             float64\n",
       "ClienteOrigem        object\n",
       "SaldoInicalOrig     float64\n",
       "SaldoFinalOrig      float64\n",
       "ClienteDest          object\n",
       "SaldoInicialDest    float64\n",
       "SaldoFinalDest      float64\n",
       "Fraude                int64\n",
       "SinalizadaFraude      int64\n",
       "dtype: object"
      ]
     },
     "execution_count": 12,
     "metadata": {},
     "output_type": "execute_result"
    }
   ],
   "source": [
    "#base_fraude_categoria = base_fraude_raw1[['Tipo','ClienteDest', 'ClienteOrigem']].astype('category')\n",
    "base_fraude_raw1.dtypes"
   ]
  },
  {
   "attachments": {},
   "cell_type": "markdown",
   "metadata": {},
   "source": [
    "## 1.5 CHANGE TYPE"
   ]
  },
  {
   "attachments": {},
   "cell_type": "markdown",
   "metadata": {},
   "source": [
    "#### Não houve nenhuma mudança nos tipos de variaveis nessa etapa, pois todas as features se encontravam com seus tipos bem definidos"
   ]
  },
  {
   "attachments": {},
   "cell_type": "markdown",
   "metadata": {},
   "source": [
    "## 1.6 - CHECK N.A."
   ]
  },
  {
   "attachments": {},
   "cell_type": "markdown",
   "metadata": {},
   "source": [
    "### Não foi encontrado nenhum valor nulo nesse Dataset"
   ]
  },
  {
   "cell_type": "code",
   "execution_count": null,
   "metadata": {},
   "outputs": [
    {
     "data": {
      "text/plain": [
       "Passos              0\n",
       "Tipo                0\n",
       "Quantia             0\n",
       "ClienteOrigem       0\n",
       "SaldoInicalOrig     0\n",
       "SaldoFinalOrig      0\n",
       "ClienteDest         0\n",
       "SaldoInicialDest    0\n",
       "SaldoFinalDest      0\n",
       "Fraude              0\n",
       "SinalizadaFraude    0\n",
       "dtype: int64"
      ]
     },
     "execution_count": 9,
     "metadata": {},
     "output_type": "execute_result"
    }
   ],
   "source": [
    "base_fraude_raw1.isnull().sum()"
   ]
  },
  {
   "cell_type": "code",
   "execution_count": null,
   "metadata": {},
   "outputs": [
    {
     "name": "stdout",
     "output_type": "stream",
     "text": [
      "<class 'pandas.core.frame.DataFrame'>\n",
      "RangeIndex: 557123 entries, 0 to 557122\n",
      "Data columns (total 11 columns):\n",
      " #   Column            Non-Null Count   Dtype  \n",
      "---  ------            --------------   -----  \n",
      " 0   Passos            557123 non-null  int64  \n",
      " 1   Tipo              557123 non-null  object \n",
      " 2   Quantia           557123 non-null  float64\n",
      " 3   ClienteOrigem     557123 non-null  object \n",
      " 4   SaldoInicalOrig   557123 non-null  float64\n",
      " 5   SaldoFinalOrig    557123 non-null  float64\n",
      " 6   ClienteDest       557123 non-null  object \n",
      " 7   SaldoInicialDest  557123 non-null  float64\n",
      " 8   SaldoFinalDest    557123 non-null  float64\n",
      " 9   Fraude            557123 non-null  int64  \n",
      " 10  SinalizadaFraude  557123 non-null  int64  \n",
      "dtypes: float64(5), int64(3), object(3)\n",
      "memory usage: 46.8+ MB\n"
     ]
    }
   ],
   "source": [
    "base_fraude_raw1.info()"
   ]
  },
  {
   "attachments": {},
   "cell_type": "markdown",
   "metadata": {},
   "source": [
    "## 1.7 - FILL OUT N.A."
   ]
  },
  {
   "attachments": {},
   "cell_type": "markdown",
   "metadata": {},
   "source": [
    "### Não havendo nenhum valor faltante nesse Dataset, não foi nescessario nenhum metodo de preenchimento ou exclusão dos mesmos"
   ]
  },
  {
   "attachments": {},
   "cell_type": "markdown",
   "metadata": {},
   "source": []
  },
  {
   "attachments": {},
   "cell_type": "markdown",
   "metadata": {},
   "source": [
    "## 1.8 DISCRIPTIVE STATISTICAL"
   ]
  },
  {
   "cell_type": "code",
   "execution_count": 19,
   "metadata": {},
   "outputs": [],
   "source": [
    "num_attributes = base_fraude_raw1.select_dtypes(include=['int64', 'float64'])\n",
    "cat_attributes = base_fraude_raw1.select_dtypes(exclude=['int64', 'float64', 'datetime64[ns]'])\n",
    "\n"
   ]
  },
  {
   "attachments": {},
   "cell_type": "markdown",
   "metadata": {},
   "source": [
    "Medidas de tendencia central - \n",
    " - Media\n",
    " - Mediana\n",
    " \n",
    "\n",
    "Medidas de Dispersão\n",
    "\n",
    "- Skewness\n",
    "- Kurtosis\n",
    "- Desvio Padrão\n",
    "- Range (alcance)\n",
    "- Min\n",
    "- Max"
   ]
  },
  {
   "attachments": {},
   "cell_type": "markdown",
   "metadata": {},
   "source": [
    "### 1.8.1 - NUMERIC ESTATISTIC"
   ]
  },
  {
   "cell_type": "code",
   "execution_count": 21,
   "metadata": {},
   "outputs": [
    {
     "data": {
      "text/html": [
       "<div>\n",
       "<style scoped>\n",
       "    .dataframe tbody tr th:only-of-type {\n",
       "        vertical-align: middle;\n",
       "    }\n",
       "\n",
       "    .dataframe tbody tr th {\n",
       "        vertical-align: top;\n",
       "    }\n",
       "\n",
       "    .dataframe thead th {\n",
       "        text-align: right;\n",
       "    }\n",
       "</style>\n",
       "<table border=\"1\" class=\"dataframe\">\n",
       "  <thead>\n",
       "    <tr style=\"text-align: right;\">\n",
       "      <th></th>\n",
       "      <th>attributes</th>\n",
       "      <th>min</th>\n",
       "      <th>max</th>\n",
       "      <th>range</th>\n",
       "      <th>mean</th>\n",
       "      <th>median</th>\n",
       "      <th>std</th>\n",
       "      <th>skew</th>\n",
       "      <th>kurtosis</th>\n",
       "    </tr>\n",
       "  </thead>\n",
       "  <tbody>\n",
       "    <tr>\n",
       "      <th>0</th>\n",
       "      <td>Unnamed: 0</td>\n",
       "      <td>0.000</td>\n",
       "      <td>557122.000</td>\n",
       "      <td>557122.000</td>\n",
       "      <td>278561.000</td>\n",
       "      <td>278561.000</td>\n",
       "      <td>160827.557</td>\n",
       "      <td>-0.000</td>\n",
       "      <td>-1.200</td>\n",
       "    </tr>\n",
       "    <tr>\n",
       "      <th>1</th>\n",
       "      <td>Passos</td>\n",
       "      <td>1.000</td>\n",
       "      <td>95.000</td>\n",
       "      <td>94.000</td>\n",
       "      <td>26.994</td>\n",
       "      <td>20.000</td>\n",
       "      <td>15.477</td>\n",
       "      <td>1.266</td>\n",
       "      <td>3.384</td>\n",
       "    </tr>\n",
       "    <tr>\n",
       "      <th>2</th>\n",
       "      <td>Quantia</td>\n",
       "      <td>0.100</td>\n",
       "      <td>10000000.000</td>\n",
       "      <td>9999999.900</td>\n",
       "      <td>163897.761</td>\n",
       "      <td>74913.810</td>\n",
       "      <td>275457.924</td>\n",
       "      <td>5.580</td>\n",
       "      <td>72.940</td>\n",
       "    </tr>\n",
       "    <tr>\n",
       "      <th>3</th>\n",
       "      <td>SaldoInicalOrig</td>\n",
       "      <td>0.000</td>\n",
       "      <td>19997409.980</td>\n",
       "      <td>19997409.980</td>\n",
       "      <td>539268.516</td>\n",
       "      <td>0.000</td>\n",
       "      <td>2551331.496</td>\n",
       "      <td>5.475</td>\n",
       "      <td>29.739</td>\n",
       "    </tr>\n",
       "    <tr>\n",
       "      <th>4</th>\n",
       "      <td>SaldoFinalOrig</td>\n",
       "      <td>0.000</td>\n",
       "      <td>20946317.020</td>\n",
       "      <td>20946317.020</td>\n",
       "      <td>551385.699</td>\n",
       "      <td>0.000</td>\n",
       "      <td>2579918.509</td>\n",
       "      <td>5.453</td>\n",
       "      <td>29.522</td>\n",
       "    </tr>\n",
       "    <tr>\n",
       "      <th>5</th>\n",
       "      <td>SaldoInicialDest</td>\n",
       "      <td>0.000</td>\n",
       "      <td>41482697.120</td>\n",
       "      <td>41482697.120</td>\n",
       "      <td>1102273.899</td>\n",
       "      <td>217585.310</td>\n",
       "      <td>2428607.923</td>\n",
       "      <td>5.068</td>\n",
       "      <td>37.892</td>\n",
       "    </tr>\n",
       "    <tr>\n",
       "      <th>6</th>\n",
       "      <td>SaldoFinalDest</td>\n",
       "      <td>0.000</td>\n",
       "      <td>42054659.730</td>\n",
       "      <td>42054659.730</td>\n",
       "      <td>1276203.964</td>\n",
       "      <td>321534.370</td>\n",
       "      <td>2577821.789</td>\n",
       "      <td>4.644</td>\n",
       "      <td>32.185</td>\n",
       "    </tr>\n",
       "    <tr>\n",
       "      <th>7</th>\n",
       "      <td>Fraude</td>\n",
       "      <td>0.000</td>\n",
       "      <td>1.000</td>\n",
       "      <td>1.000</td>\n",
       "      <td>0.001</td>\n",
       "      <td>0.000</td>\n",
       "      <td>0.025</td>\n",
       "      <td>39.803</td>\n",
       "      <td>1582.260</td>\n",
       "    </tr>\n",
       "    <tr>\n",
       "      <th>8</th>\n",
       "      <td>SinalizadaFraude</td>\n",
       "      <td>0.000</td>\n",
       "      <td>0.000</td>\n",
       "      <td>0.000</td>\n",
       "      <td>0.000</td>\n",
       "      <td>0.000</td>\n",
       "      <td>0.000</td>\n",
       "      <td>0.000</td>\n",
       "      <td>0.000</td>\n",
       "    </tr>\n",
       "  </tbody>\n",
       "</table>\n",
       "</div>"
      ],
      "text/plain": [
       "         attributes   min          max        range        mean     median  \\\n",
       "0        Unnamed: 0 0.000   557122.000   557122.000  278561.000 278561.000   \n",
       "1            Passos 1.000       95.000       94.000      26.994     20.000   \n",
       "2           Quantia 0.100 10000000.000  9999999.900  163897.761  74913.810   \n",
       "3   SaldoInicalOrig 0.000 19997409.980 19997409.980  539268.516      0.000   \n",
       "4    SaldoFinalOrig 0.000 20946317.020 20946317.020  551385.699      0.000   \n",
       "5  SaldoInicialDest 0.000 41482697.120 41482697.120 1102273.899 217585.310   \n",
       "6    SaldoFinalDest 0.000 42054659.730 42054659.730 1276203.964 321534.370   \n",
       "7            Fraude 0.000        1.000        1.000       0.001      0.000   \n",
       "8  SinalizadaFraude 0.000        0.000        0.000       0.000      0.000   \n",
       "\n",
       "          std   skew  kurtosis  \n",
       "0  160827.557 -0.000    -1.200  \n",
       "1      15.477  1.266     3.384  \n",
       "2  275457.924  5.580    72.940  \n",
       "3 2551331.496  5.475    29.739  \n",
       "4 2579918.509  5.453    29.522  \n",
       "5 2428607.923  5.068    37.892  \n",
       "6 2577821.789  4.644    32.185  \n",
       "7       0.025 39.803  1582.260  \n",
       "8       0.000  0.000     0.000  "
      ]
     },
     "execution_count": 21,
     "metadata": {},
     "output_type": "execute_result"
    }
   ],
   "source": [
    "m = show_descriptive_statistical(num_attributes)\n",
    "m"
   ]
  },
  {
   "attachments": {},
   "cell_type": "markdown",
   "metadata": {},
   "source": [
    "### 1.8.2 - CATEGORICAL ATRIBUTES\n",
    "\n"
   ]
  },
  {
   "cell_type": "code",
   "execution_count": 18,
   "metadata": {},
   "outputs": [
    {
     "data": {
      "text/plain": [
       "Tipo                  5\n",
       "ClienteOrigem    557054\n",
       "ClienteDest      269195\n",
       "dtype: int64"
      ]
     },
     "execution_count": 18,
     "metadata": {},
     "output_type": "execute_result"
    }
   ],
   "source": [
    "cat_attributes.apply(lambda x: x.unique().shape[0])"
   ]
  },
  {
   "attachments": {},
   "cell_type": "markdown",
   "metadata": {},
   "source": [
    "## 2.0 - FEATURE ENGINER - PARTE I"
   ]
  },
  {
   "cell_type": "code",
   "execution_count": 22,
   "metadata": {},
   "outputs": [],
   "source": [
    "#base_fraude_raw2 = base_fraude_raw1.copy()\n",
    "#base_fraude_raw2.to_csv(HOME_PATH+INTERIM_DATA_PATH+'base_fraude_raw2.csv')\n",
    "base_fraude_raw2 = pd.read_csv(HOME_PATH+INTERIM_DATA_PATH+'base_fraude_raw2.csv')"
   ]
  },
  {
   "attachments": {},
   "cell_type": "markdown",
   "metadata": {},
   "source": [
    "## 2.1 - MAPA MENTAL DE HIPOTESE"
   ]
  },
  {
   "attachments": {},
   "cell_type": "markdown",
   "metadata": {},
   "source": [
    "## 2.2 - CRIAÇÃO DAS HIPOTESE"
   ]
  },
  {
   "attachments": {},
   "cell_type": "markdown",
   "metadata": {},
   "source": [
    "## 2.3 - LISTA FINAL DE HIPOTESE"
   ]
  },
  {
   "attachments": {},
   "cell_type": "markdown",
   "metadata": {},
   "source": [
    "## 2.4 - FEATURE ENGINER - PARTE 2"
   ]
  },
  {
   "attachments": {},
   "cell_type": "markdown",
   "metadata": {},
   "source": []
  },
  {
   "attachments": {},
   "cell_type": "markdown",
   "metadata": {},
   "source": [
    "## 3.0 - FILTRAGEM DE VARIAVEIS"
   ]
  },
  {
   "attachments": {},
   "cell_type": "markdown",
   "metadata": {},
   "source": [
    "## 3.1 - FILTRAGEM DE LINHAS"
   ]
  },
  {
   "attachments": {},
   "cell_type": "markdown",
   "metadata": {},
   "source": [
    "## 3.2 - FILTRAGEM DE COLUNAS - SELEÇÃO DAS COLUNAS"
   ]
  },
  {
   "attachments": {},
   "cell_type": "markdown",
   "metadata": {},
   "source": []
  }
 ],
 "metadata": {
  "kernelspec": {
   "display_name": "Python 3",
   "language": "python",
   "name": "python3"
  },
  "language_info": {
   "codemirror_mode": {
    "name": "ipython",
    "version": 3
   },
   "file_extension": ".py",
   "mimetype": "text/x-python",
   "name": "python",
   "nbconvert_exporter": "python",
   "pygments_lexer": "ipython3",
   "version": "3.10.12"
  },
  "orig_nbformat": 4
 },
 "nbformat": 4,
 "nbformat_minor": 2
}
