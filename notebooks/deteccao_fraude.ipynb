{
 "cells": [
  {
   "attachments": {},
   "cell_type": "markdown",
   "metadata": {},
   "source": []
  },
  {
   "attachments": {},
   "cell_type": "markdown",
   "metadata": {},
   "source": [
    "## 0.0 IMPORTS"
   ]
  },
  {
   "cell_type": "code",
   "execution_count": 1,
   "metadata": {},
   "outputs": [],
   "source": [
    "import pandas as pd\n",
    "import numpy as np\n",
    "import seaborn as sns\n",
    "import matplotlib.pyplot as plt\n",
    "import plotly.express as px"
   ]
  },
  {
   "attachments": {},
   "cell_type": "markdown",
   "metadata": {},
   "source": [
    "## 0.1 - HELPER FUNCTION (FUNÇÕES AUXILIARES)"
   ]
  },
  {
   "cell_type": "code",
   "execution_count": null,
   "metadata": {},
   "outputs": [],
   "source": []
  },
  {
   "attachments": {},
   "cell_type": "markdown",
   "metadata": {},
   "source": [
    "## 0.2 - PATH DEFINITION"
   ]
  },
  {
   "cell_type": "code",
   "execution_count": 3,
   "metadata": {},
   "outputs": [],
   "source": [
    "HOME_PATH = ''\n",
    "RAW_DATA_PATH = ''\n",
    "INTERIM_DATA_PATH = ''\n",
    "FIGURE_PATH = ''"
   ]
  },
  {
   "attachments": {},
   "cell_type": "markdown",
   "metadata": {},
   "source": [
    "## 0.3 - LOAD DATA"
   ]
  },
  {
   "cell_type": "code",
   "execution_count": 8,
   "metadata": {},
   "outputs": [],
   "source": [
    "base_fraude_raw1 = pd.read_csv('/home/valmir/Documentos/deteccao_fraude/data/raw/fraud_detection_dataset.csv')"
   ]
  },
  {
   "attachments": {},
   "cell_type": "markdown",
   "metadata": {},
   "source": [
    "## 1.0 - DATA DESCRIPITION"
   ]
  },
  {
   "cell_type": "code",
   "execution_count": 9,
   "metadata": {},
   "outputs": [],
   "source": [
    "base_fraude_raw1 = base_fraude_raw.copy()\n",
    "base_fraude_raw1.to_csv(HOME_PATH+INTERIM_DATA_PATH+'base_fraude_raw1.csv')"
   ]
  },
  {
   "attachments": {},
   "cell_type": "markdown",
   "metadata": {},
   "source": [
    "## 1.1 - DATA FIELD'S"
   ]
  },
  {
   "attachments": {},
   "cell_type": "markdown",
   "metadata": {},
   "source": [
    "Os dados contidos nesta base de dados são simulados e compreendem 30 dias. Estas transações podem ser de diferentes tipo e foram executadas via mobile devices. As features contidas nesta base de dados são:\n",
    "\n",
    " - step - Passo: representa o total de horas transcorrido desde o início da simulação. Esta feature vai variar entre 1 e 744 (30 dias);\n",
    "\n",
    " - type: Tipo: tipo de transação(depósito, saque, débito, pagamento e transferencia);\n",
    "\n",
    " - amount: Quantia: total que foi transacionado;\n",
    "\n",
    " - nameOring: ClienteOrigem: cliente que iniciou atransação;\n",
    "\n",
    " - oldbalanceOrg: SaldoInicialOrigem: saldo da conta de origem antes da transação;\n",
    "\n",
    " - newbalanceOrig: SaldoFinalOrigem: saldo da conta de origem depois da transação;\n",
    "\n",
    " - nameDest: ClienteDestino: cliente de destino da transação;\n",
    "\n",
    " - oldbalandeDestino: SaldoInicialDestino: saldo da conta destino antes da transação;\n",
    "\n",
    " - newbalanceDest: SaldoFinalDestino: saldo da conta destino depois da transação;\n",
    "\n",
    " - isFraud: Fraude: flag que define se a transação é fraudolenta ou não. Nesta simulação de fraude é a assumir se 'a conta do usuario foi   esvaziada e transferindo o dinherio para outra conta e depois sacado\n",
    " \n",
    " - IssFlaggedFraud: SinalizadaFraude: automaticamente categorizada como fraude pelo banco por fraude por tentar trasnferir mais de 200 mil em uma única conta\n"
   ]
  },
  {
   "attachments": {},
   "cell_type": "markdown",
   "metadata": {},
   "source": [
    "## 1.2 - RENAME COLUMNS"
   ]
  },
  {
   "cell_type": "code",
   "execution_count": 10,
   "metadata": {},
   "outputs": [
    {
     "data": {
      "text/plain": [
       "Passos                int64\n",
       "Tipo                 object\n",
       "Quantia             float64\n",
       "ClienteOrigem        object\n",
       "SaldoInicalOrig     float64\n",
       "SaldoFinalOrig      float64\n",
       "ClienteDest          object\n",
       "SaldoInicialDest    float64\n",
       "SaldoFinalDest      float64\n",
       "Fraude                int64\n",
       "SinalizadaFraude      int64\n",
       "dtype: object"
      ]
     },
     "execution_count": 10,
     "metadata": {},
     "output_type": "execute_result"
    }
   ],
   "source": [
    "base_fraude_raw.rename(columns={'step':'Passos', 'type':'Tipo', 'amount': 'Quantia',\n",
    "                                'nameOrig':'ClienteOrigem', 'oldbalanceOrg': 'SaldoInicalOrig',\n",
    "                                'newbalanceOrig':'SaldoFinalOrig', 'nameDest':'ClienteDest',\n",
    "                                'oldbalanceDest':'SaldoInicialDest', 'newbalanceDest':'SaldoFinalDest',\n",
    "                                'isFraud':'Fraude', 'isFlaggedFraud':'SinalizadaFraude'}, inplace=True)\n",
    "base_fraude_raw.dtypes"
   ]
  },
  {
   "attachments": {},
   "cell_type": "markdown",
   "metadata": {},
   "source": [
    "## 1.3 - DATA DIMENSIONS"
   ]
  },
  {
   "cell_type": "code",
   "execution_count": 12,
   "metadata": {},
   "outputs": [
    {
     "name": "stdout",
     "output_type": "stream",
     "text": [
      "Numero de linhas 557123\n",
      "Numero de colunas 11\n"
     ]
    }
   ],
   "source": [
    "num_linhas, num_colunas = base_fraude_raw.shape\n",
    "\n",
    "print('Numero de linhas', num_linhas)\n",
    "print('Numero de colunas', num_colunas)"
   ]
  },
  {
   "attachments": {},
   "cell_type": "markdown",
   "metadata": {},
   "source": [
    "## 1.4 - DATA TYPE"
   ]
  },
  {
   "cell_type": "code",
   "execution_count": 41,
   "metadata": {},
   "outputs": [
    {
     "data": {
      "text/plain": [
       "step                int64\n",
       "type               object\n",
       "amount            float64\n",
       "nameOrig           object\n",
       "oldbalanceOrg     float64\n",
       "newbalanceOrig    float64\n",
       "nameDest           object\n",
       "oldbalanceDest    float64\n",
       "newbalanceDest    float64\n",
       "isFraud             int64\n",
       "isFlaggedFraud      int64\n",
       "dtype: object"
      ]
     },
     "execution_count": 41,
     "metadata": {},
     "output_type": "execute_result"
    }
   ],
   "source": [
    "base_fraude_raw.dtypes"
   ]
  },
  {
   "attachments": {},
   "cell_type": "markdown",
   "metadata": {},
   "source": [
    "## 1.5 CHANGE TYPE"
   ]
  },
  {
   "attachments": {},
   "cell_type": "markdown",
   "metadata": {},
   "source": [
    "#### Não houve nenhuma mudança nos tipos de variaveis nessa etapa, pois todas as features se encontravam com seus tipos bem definidos"
   ]
  },
  {
   "attachments": {},
   "cell_type": "markdown",
   "metadata": {},
   "source": [
    "## 1.6 - CHECK N.A."
   ]
  },
  {
   "attachments": {},
   "cell_type": "markdown",
   "metadata": {},
   "source": [
    "### Não foi encontrado nenhum valor nulo nesse Dataset"
   ]
  },
  {
   "cell_type": "code",
   "execution_count": 14,
   "metadata": {},
   "outputs": [
    {
     "data": {
      "text/plain": [
       "Passos              0\n",
       "Tipo                0\n",
       "Quantia             0\n",
       "ClienteOrigem       0\n",
       "SaldoInicalOrig     0\n",
       "SaldoFinalOrig      0\n",
       "ClienteDest         0\n",
       "SaldoInicialDest    0\n",
       "SaldoFinalDest      0\n",
       "Fraude              0\n",
       "SinalizadaFraude    0\n",
       "dtype: int64"
      ]
     },
     "execution_count": 14,
     "metadata": {},
     "output_type": "execute_result"
    }
   ],
   "source": [
    "base_fraude_raw.isnull().sum()"
   ]
  },
  {
   "cell_type": "code",
   "execution_count": 15,
   "metadata": {},
   "outputs": [
    {
     "name": "stdout",
     "output_type": "stream",
     "text": [
      "<class 'pandas.core.frame.DataFrame'>\n",
      "RangeIndex: 557123 entries, 0 to 557122\n",
      "Data columns (total 11 columns):\n",
      " #   Column            Non-Null Count   Dtype  \n",
      "---  ------            --------------   -----  \n",
      " 0   Passos            557123 non-null  int64  \n",
      " 1   Tipo              557123 non-null  object \n",
      " 2   Quantia           557123 non-null  float64\n",
      " 3   ClienteOrigem     557123 non-null  object \n",
      " 4   SaldoInicalOrig   557123 non-null  float64\n",
      " 5   SaldoFinalOrig    557123 non-null  float64\n",
      " 6   ClienteDest       557123 non-null  object \n",
      " 7   SaldoInicialDest  557123 non-null  float64\n",
      " 8   SaldoFinalDest    557123 non-null  float64\n",
      " 9   Fraude            557123 non-null  int64  \n",
      " 10  SinalizadaFraude  557123 non-null  int64  \n",
      "dtypes: float64(5), int64(3), object(3)\n",
      "memory usage: 46.8+ MB\n"
     ]
    }
   ],
   "source": [
    "base_fraude_raw.info()"
   ]
  },
  {
   "attachments": {},
   "cell_type": "markdown",
   "metadata": {},
   "source": [
    "## 1.7 - FILL OUT N.A."
   ]
  },
  {
   "attachments": {},
   "cell_type": "markdown",
   "metadata": {},
   "source": [
    "### Não havendo nenhum valor faltante nesse Dataset, não foi nescessario nenhum metodo de preenchimento ou exclusão dos mesmos"
   ]
  },
  {
   "attachments": {},
   "cell_type": "markdown",
   "metadata": {},
   "source": []
  },
  {
   "attachments": {},
   "cell_type": "markdown",
   "metadata": {},
   "source": [
    "## 1.8 DISCRIPTIVE STATISTICAL"
   ]
  },
  {
   "attachments": {},
   "cell_type": "markdown",
   "metadata": {},
   "source": [
    "Medidas de tendencia central - \n",
    " - Media\n",
    " - Mediana\n",
    " \n",
    "\n",
    "Medidas de Dispersão\n",
    "\n",
    "- Skewness\n",
    "- Kurtosis\n",
    "- Desvio Padrão\n",
    "- Range (alcance)\n",
    "- Min\n",
    "- Max"
   ]
  },
  {
   "cell_type": "code",
   "execution_count": 22,
   "metadata": {},
   "outputs": [
    {
     "name": "stdout",
     "output_type": "stream",
     "text": [
      "mean    163897.760907\n",
      "50%      74913.810000\n",
      "Name: Quantia, dtype: float64\n"
     ]
    }
   ],
   "source": [
    "# Medidas de Tendencia - Media e Mediana\n",
    "tendencia = base_fraude_raw['Quantia'].describe().loc[['mean', '50%']]\n",
    "print(tendencia)\n"
   ]
  },
  {
   "cell_type": "code",
   "execution_count": null,
   "metadata": {},
   "outputs": [],
   "source": []
  },
  {
   "attachments": {},
   "cell_type": "markdown",
   "metadata": {},
   "source": []
  }
 ],
 "metadata": {
  "kernelspec": {
   "display_name": "Python 3",
   "language": "python",
   "name": "python3"
  },
  "language_info": {
   "codemirror_mode": {
    "name": "ipython",
    "version": 3
   },
   "file_extension": ".py",
   "mimetype": "text/x-python",
   "name": "python",
   "nbconvert_exporter": "python",
   "pygments_lexer": "ipython3",
   "version": "3.10.6"
  },
  "orig_nbformat": 4
 },
 "nbformat": 4,
 "nbformat_minor": 2
}
